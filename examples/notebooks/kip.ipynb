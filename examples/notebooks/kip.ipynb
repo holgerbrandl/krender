{
 "cells": [
  {
   "cell_type": "code",
   "execution_count": 1,
   "metadata": {},
   "outputs": [],
   "source": [
    "@file:MavenRepository(\"imagej-releases\", \"http://maven.imagej.net/content/groups/public\")\n"
   ]
  },
  {
   "cell_type": "code",
   "execution_count": 2,
   "metadata": {},
   "outputs": [],
   "source": [
    "@file:DependsOnMaven(\"de.mpicbg.scicmop.kip:kip:0.1-SNAPSHOT\")\n"
   ]
  },
  {
   "cell_type": "code",
   "execution_count": 3,
   "metadata": {},
   "outputs": [
    {
     "name": "stderr",
     "output_type": "stream",
     "text": [
      "\u001b[1;31merror: \u001b[0;1munresolved reference: pckgFun\u001b[m\n",
      "pckgFun()\n",
      "^\n"
     ]
    }
   ],
   "source": [
    "import de.mpicbg.scicomp.kip.*\n",
    "pckgFun()\n"
   ]
  },
  {
   "cell_type": "code",
   "execution_count": 5,
   "metadata": {},
   "outputs": [
    {
     "name": "stderr",
     "output_type": "stream",
     "text": [
      "\u001b[1;31merror: \u001b[0;1munresolved reference: pckgFun\u001b[m\n",
      "import de.mpicbg.scicomp.kip.pckgFun\n",
      "                             ^\n",
      "\u001b[1;31merror: \u001b[0;1munresolved reference: pckgFun\u001b[m\n",
      "de.mpicbg.scicomp.kip.pckgFun()\n",
      "                      ^\n"
     ]
    }
   ],
   "source": [
    "import de.mpicbg.scicomp.kip.pckgFun\n",
    "\n",
    "pckgFun()"
   ]
  },
  {
   "cell_type": "code",
   "execution_count": 8,
   "metadata": {},
   "outputs": [
    {
     "name": "stderr",
     "output_type": "stream",
     "text": [
      "\u001b[1;31merror: \u001b[0;1munresolved reference: UtilKt\u001b[m\n",
      "de.mpicbg.scicomp.kip.UtilKt.Companion.pckgFun()\n",
      "                      ^\n"
     ]
    }
   ],
   "source": [
    "de.mpicbg.scicomp.kip.UtilKt.Companion.pckgFun()"
   ]
  },
  {
   "cell_type": "code",
   "execution_count": 19,
   "metadata": {},
   "outputs": [
    {
     "name": "stderr",
     "output_type": "stream",
     "text": [
      "\u001b[1;31merror: \u001b[0;1munresolved reference: fromMatrix\u001b[m\n",
      "import de.mpicbg.scicomp.kip.fromMatrix\n",
      "                             ^\n"
     ]
    }
   ],
   "source": [
    "import de.mpicbg.scicomp.kip.fromMatrix"
   ]
  },
  {
   "cell_type": "code",
   "execution_count": 20,
   "metadata": {},
   "outputs": [],
   "source": [
    "import de.mpicbg.scicomp.kip.*"
   ]
  },
  {
   "cell_type": "code",
   "execution_count": 9,
   "metadata": {},
   "outputs": [
    {
     "name": "stderr",
     "output_type": "stream",
     "text": [
      "\u001b[1;31merror: \u001b[0;1munresolved reference: bubbles\u001b[m\n",
      "bubbles()\n",
      "^\n"
     ]
    }
   ],
   "source": [
    "bubbles()"
   ]
  },
  {
   "cell_type": "code",
   "execution_count": 21,
   "metadata": {},
   "outputs": [
    {
     "name": "stderr",
     "output_type": "stream",
     "text": [
      "\u001b[1;31merror: \u001b[0;1munresolved reference: openImage\u001b[m\n",
      "openImage\n",
      "^\n"
     ]
    }
   ],
   "source": [
    "openImage"
   ]
  },
  {
   "cell_type": "code",
   "execution_count": null,
   "metadata": {},
   "outputs": [],
   "source": []
  }
 ],
 "metadata": {
  "kernelspec": {
   "display_name": "Kotlin",
   "language": "kotlin",
   "name": "kotlin"
  },
  "language_info": {
   "file_extension": "kt",
   "name": "kotlin"
  }
 },
 "nbformat": 4,
 "nbformat_minor": 2
}
